{
 "cells": [
  {
   "cell_type": "code",
   "execution_count": null,
   "metadata": {},
   "outputs": [],
   "source": [
    "import numpy as np\n",
    "import PIL.Image as Image\n",
    "import glob\n",
    "import os\n",
    "import cv2\n",
    "\n",
    "def make_dataset(folder:str, num_images:int, size_x:int, size_y:int):\n",
    "    img_list = glob.glob(os.path.join(folder, '*.jpg'))\n",
    "    images = img_list[:num_images]\n",
    "    image_set = []\n",
    "    for i in range(len(images)):\n",
    "        image = cv2.imread(images[i])\n",
    "        image = cv2.cvtColor(image, cv2.COLOR_BGR2RGB)\n",
    "        image = cv2.resize(image, (size_x, size_y), interpolation=cv2.INTER_AREA)\n",
    "        image = Image.fromarray(image)\n",
    "        # crop image to 500 x 500\n",
    "        #image = image.crop((0, 0, size_x, size_y))\n",
    "        image = np.array(image)\n",
    "        image = image/255.0\n",
    "        image_set.append(image)\n",
    "    return image_set\n",
    "\n",
    "def make_datasetn(folder:str, num_images:int):\n",
    "    img_list = sorted(os.listdir(folder), key=lambda x: int(x.split('_')[1].split('.')[0]))\n",
    "    images = img_list\n",
    "    image_set = []\n",
    "    for i in range(len(images)):\n",
    "        image = cv2.imread(os.path.join(folder, images[i]))\n",
    "        image = cv2.cvtColor(image, cv2.COLOR_BGR2RGB)\n",
    "        image = Image.fromarray(image)\n",
    "        image = np.array(image)\n",
    "        image = image/255.0\n",
    "        image_set.append(image)\n",
    "    return image_set"
   ]
  }
 ],
 "metadata": {
  "language_info": {
   "name": "python"
  }
 },
 "nbformat": 4,
 "nbformat_minor": 2
}
