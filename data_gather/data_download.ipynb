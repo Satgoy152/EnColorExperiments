{
 "cells": [
  {
   "cell_type": "code",
   "execution_count": null,
   "metadata": {},
   "outputs": [],
   "source": [
    "#download data from https://github.com/laboroai/LaboroTomato?tab=readme-ov-file#download-dataset\n",
    "#other images detailed in the paper are not available in the dataset\n",
    "import os\n",
    "import zipfile\n",
    "import requests\n",
    "\n",
    "#download zip file\n",
    "url = 'http://assets.laboro.ai.s3.amazonaws.com/laborotomato/laboro_tomato.zip'\n",
    "r = requests.get(url, allow_redirects=True)\n",
    "\n",
    "open('laboro_tomato.zip', 'wb').write(r.content)\n",
    "\n",
    "#unzip file\n",
    "\n",
    "with zipfile.ZipFile('laboro_tomato.zip', 'r') as zip_ref:\n",
    "    zip_ref.extractall('data')\n"
   ]
  }
 ],
 "metadata": {
  "language_info": {
   "name": "python"
  }
 },
 "nbformat": 4,
 "nbformat_minor": 2
}
