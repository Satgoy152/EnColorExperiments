{
 "cells": [
  {
   "cell_type": "code",
   "execution_count": 19,
   "metadata": {},
   "outputs": [],
   "source": [
    "import PIL.Image as Image\n",
    "# helper func to read image as rgb list\n",
    "def read_image(path:str):\n",
    "    im = Image.open(path)\n",
    "    height, width = im.size\n",
    "    pixels = list(im.getdata())\n",
    "    print(len(pixels))\n",
    "    return pixels, height, width"
   ]
  },
  {
   "cell_type": "code",
   "execution_count": 1,
   "metadata": {},
   "outputs": [],
   "source": [
    "import json\n",
    "import numpy as np\n",
    "from PIL.Image import Image\n",
    "\n",
    "def dicromacy_sim(img:str, cvd_type:int, severity:int):\n",
    "    '''\n",
    "    param img: image path\n",
    "    param cvd_type: 0 = protanmaly, 1 = deuteranomaly, 2 = tritanomaly\n",
    "    param severity: severity of the color blindness [0.0, 1.0]\n",
    "    '''\n",
    "    # read image\n",
    "    pixels, height, width = read_image(img)\n",
    "    pixels = np.array(pixels)\n",
    "\n",
    "    # read json file\n",
    "    # json data from https://www.inf.ufrgs.br/~oliveira/pubs_files/CVD_Simulation/CVD_Simulation.html\n",
    "    with open('linear_simulation_data.json', 'r') as f:\n",
    "        data = json.load(f)\n",
    "    # get the matrix\n",
    "    matrices = data.get('data')\n",
    "    matrix = []\n",
    "    for i in range(len(matrices)):\n",
    "        if matrices[i].get('severity') == severity:\n",
    "            matrix = matrices[i].get('matrices')[cvd_type]\n",
    "            break\n",
    "    matrix = np.array(matrix)\n",
    "    # get only the first 3 channels of each pixel\n",
    "    pixels = pixels[:, :3]\n",
    "    \n",
    "    # simulate color blindness\n",
    "    new_pixels = np.tensordot(pixels, matrix, axes=(-1, -1))\n",
    "    # clip values\n",
    "    new_pixels[new_pixels > 255] = 255\n",
    "    new_pixels[new_pixels < 0] = 0\n",
    "\n",
    "    # convert to image\n",
    "    new_pixels = np.array(new_pixels)\n",
    "    new_pixels2 = np.ravel(new_pixels)\n",
    "    new_image = Image.fromarray(new_pixels2.reshape(width, height, 3).astype('uint8'))\n",
    "    new_image.save(f'{img}_{cvd_type}__{severity}.png')"
   ]
  },
  {
   "cell_type": "code",
   "execution_count": null,
   "metadata": {},
   "outputs": [],
   "source": [
    "# cycle through images in test images folder\n",
    "import os\n",
    "\n",
    "# simulate color blindness for each image\n",
    "for filename in os.listdir('test_images'):\n",
    "    if filename.endswith('.png'):\n",
    "        dicromacy_sim(f'test_images/{filename}', 0, 0.5)\n",
    "        dicromacy_sim(f'test_images/{filename}', 1, 0.5)\n",
    "        dicromacy_sim(f'test_images/{filename}', 2, 0.5)\n",
    "        continue\n",
    "    else:\n",
    "        continue"
   ]
  },
  {
   "cell_type": "code",
   "execution_count": null,
   "metadata": {},
   "outputs": [],
   "source": [
    "# code to plot all the images\n",
    "import matplotlib.pyplot as plt\n",
    "\n",
    "fig, axs = plt.subplots(2,5, figsize=(20, 10))\n",
    "scale = np.arange(0, 1.1, 0.1)\n",
    "for i in range(len(scale[1:6])):\n",
    "    axs[0, i].imshow(plt.imread(f'ishihara_plate.jpeg_1_{scale[i].round(1)}.png'))\n",
    "    axs[0, i].set_title(f'severity = {scale[i + 1].round(1)}')\n",
    "\n",
    "for i in range(len(scale[6:11])):\n",
    "    axs[1, i].imshow(plt.imread(f'ishihara_plate.jpeg_1_{scale[i].round(1)}.png'))\n",
    "    axs[1, i].set_title(f'severity = {scale[i + 6].round(1)}')"
   ]
  }
 ],
 "metadata": {
  "kernelspec": {
   "display_name": "Python 3",
   "language": "python",
   "name": "python3"
  },
  "language_info": {
   "codemirror_mode": {
    "name": "ipython",
    "version": 3
   },
   "file_extension": ".py",
   "mimetype": "text/x-python",
   "name": "python",
   "nbconvert_exporter": "python",
   "pygments_lexer": "ipython3",
   "version": "3.10.9"
  },
  "orig_nbformat": 4
 },
 "nbformat": 4,
 "nbformat_minor": 2
}
