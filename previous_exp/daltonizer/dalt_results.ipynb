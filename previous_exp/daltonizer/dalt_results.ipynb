{
 "cells": [
  {
   "cell_type": "code",
   "execution_count": null,
   "metadata": {},
   "outputs": [],
   "source": [
    "from average import run_average\n",
    "import numpy as np\n",
    "\n",
    "\n",
    "orig_image_directory = \"../laboro_tomato/test_downsized\"\n",
    "average_mse = []\n",
    "average_ssim = []\n",
    "\n",
    "for i in np.arange(0.1, 1.1, 0.1):\n",
    "    i = round(i, 1)\n",
    "    corrected_image_directory = f\"dalt_results/training_results_{i}\"\n",
    "    mse, ssim  = run_average(orig_image_directory, corrected_image_directory, 150)\n",
    "    average_mse.append(mse)\n",
    "    average_ssim.append(ssim)\n"
   ]
  },
  {
   "cell_type": "code",
   "execution_count": null,
   "metadata": {},
   "outputs": [],
   "source": [
    "from matplotlib import pyplot as plt\n",
    "\n",
    "# plot mse and ssim for each intensity starting from 0.3 to 1.0\n",
    "\n",
    "print(average_mse)\n",
    "print(average_ssim)\n",
    "\n",
    "intensity = [0.1, 0.2, 0.3, 0.4, 0.5, 0.6, 0.7, 0.8, 0.9, 1.0]\n",
    "\n",
    "fig, ax1 = plt.subplots()\n",
    "\n",
    "ax1.set_ylabel('MSE', color='blue')\n",
    "ax1.set_xlabel('Intensity')\n",
    "ax1.plot(intensity, average_mse, 'blue')\n",
    "ax1.tick_params(axis='y', labelcolor='blue')\n",
    "ax2 = ax1.twinx()  # instantiate a second axes that shares the same x-axis\n",
    "\n",
    "ax2.set_ylabel('SSIM', color='red')  # we already handled the x-label with ax1\n",
    "ax2.plot(intensity, average_ssim, 'red')\n",
    "ax2.tick_params(axis='y', labelcolor='red')\n",
    "\n",
    "plt.show()\n",
    "print(np.mean(average_mse))\n",
    "print(np.mean(average_ssim))"
   ]
  }
 ],
 "metadata": {
  "language_info": {
   "name": "python"
  }
 },
 "nbformat": 4,
 "nbformat_minor": 2
}
